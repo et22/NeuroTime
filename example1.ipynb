{
 "cells": [
  {
   "cell_type": "markdown",
   "metadata": {},
   "source": [
    "### Example 1: Fitting the ARMAX model and estimating timescales"
   ]
  },
  {
   "cell_type": "markdown",
   "metadata": {},
   "source": [
    "**1. Load and Preprocess Data**. First, we load our data from a .mat file and convert it to a `NeuronData` object, the data format used for modeling. "
   ]
  },
  {
   "cell_type": "code",
   "execution_count": 16,
   "metadata": {},
   "outputs": [],
   "source": [
    "from scipy.io import loadmat\n",
    "from neurotime.NeuronData import NeuronData\n",
    "from neurotime.data_utils import SignalTimes, SignalValues\n",
    "\n",
    "data_path = './example_data/example_neuron_data.mat'\n",
    "mat_contents = loadmat(data_path)\n",
    "neuron_data_mat = mat_contents['NeuronData'][0]\n",
    "\n",
    "tst = neuron_data_mat['trial_start_times'][0]\n",
    "tet = neuron_data_mat['trial_end_times'][0]\n",
    "spike_times = neuron_data_mat['spike_times'][0]\n",
    "\n",
    "st = neuron_data_mat['signal_times'][0]\n",
    "sv = neuron_data_mat['signal_values'][0]\n",
    "\n",
    "signal_times = SignalTimes()\n",
    "signal_values = SignalValues()\n",
    "\n",
    "signal_times.reward = st['reward'][0][0]\n",
    "signal_values.reward = sv['reward'][0][0]\n",
    "signal_times.choice_side = st['choice_side'][0][0]\n",
    "signal_values.choice_side = sv['choice_side'][0][0]\n",
    "signal_times.choice_stimulus = st['choice_stimulus'][0][0]\n",
    "signal_values.choice_stimulus = sv['choice_stimulus'][0][0]\n",
    "\n",
    "# construct the neuron data object\n",
    "neuron_data = NeuronData(trial_start_times = tst, trial_end_times = tet, \n",
    "                            spike_times=spike_times, signal_times=signal_times, \n",
    "                            signal_values=signal_values)\n"
   ]
  },
  {
   "cell_type": "markdown",
   "metadata": {},
   "source": [
    "**2. Define ARMAX Model.** Next, we construct a `ModelDefinition` object that describes the composition of the model. Then we use the `ModelDefinition` object to construct an `ARMAXModel`."
   ]
  },
  {
   "cell_type": "code",
   "execution_count": 17,
   "metadata": {},
   "outputs": [],
   "source": [
    "from neurotime.ModelDefinition import ModelDefinition\n",
    "from neurotime.ARMAXModel import ARMAXModel\n",
    "\n",
    "# here, we add 3 task relevant, 2 autoregressive, and 2 exogenous terms to the model\n",
    "model_definition = ModelDefinition()\n",
    "model_definition.addTRComponent(name = 'reward')\n",
    "# model_definition.addTRComponent(name = 'choice_side')\n",
    "# model_definition.addTRComponent(name = 'choice_stimulus')\n",
    "# model_definition.addARComponent(name = 'intrinsic')\n",
    "# model_definition.addARComponent(name = 'seasonal')\n",
    "# model_definition.addExoComponent(name = 'reward')\n",
    "# model_definition.addExoComponent(name = 'choice_side')\n",
    "# model_definition.addExoComponent(name = 'choice_stimulus')\n",
    "\n",
    "# now, we construct the ARMAX model\n",
    "armax_model = ARMAXModel(model_definition=model_definition)"
   ]
  },
  {
   "cell_type": "markdown",
   "metadata": {},
   "source": [
    "**3. Fit ARMAX Model.** Next, we convert `NeuronData` to $X$ and $y$ variables to input into the model. Then, we fit the ARMAX model using thoose variables. "
   ]
  },
  {
   "cell_type": "code",
   "execution_count": 18,
   "metadata": {},
   "outputs": [
    {
     "name": "stdout",
     "output_type": "stream",
     "text": [
      "removed 0/22180 rows because they contained a NaN predictor.\n",
      "Model Performance: R^2=0.00015475794624623948\n",
      "Model parameters: {'tr_reward': -0.008390107544308882}\n"
     ]
    }
   ],
   "source": [
    "# first, generate input for the model\n",
    "# X, y are inputs for the fit function, and i_size, and s_size are the size of intrinsic \n",
    "#   and seasonal bin for later timescale estimation\n",
    "X, y, i_size, s_size = neuron_data.to_armax_input(model = armax_model, model_definition = model_definition, bin_size = 50)\n",
    "\n",
    "# next, call fit function\n",
    "armax_model.fit(X, y)\n",
    "\n",
    "# finally, we report fitting results\n",
    "r_sq = armax_model.score(X, y)\n",
    "print(f'Model Performance: R^2={r_sq}')\n",
    "\n",
    "params = armax_model.get_params(intrinsic_size=i_size, seasonal_size=s_size)\n",
    "print(f'Model parameters: {params}')"
   ]
  }
 ],
 "metadata": {
  "interpreter": {
   "hash": "c6967f9ee5a6c7e6a2562cc02fd2121c2a452f292555c627e0ca636acdf7ea25"
  },
  "kernelspec": {
   "display_name": "Python 3.10.1 64-bit",
   "language": "python",
   "name": "python3"
  },
  "language_info": {
   "codemirror_mode": {
    "name": "ipython",
    "version": 3
   },
   "file_extension": ".py",
   "mimetype": "text/x-python",
   "name": "python",
   "nbconvert_exporter": "python",
   "pygments_lexer": "ipython3",
   "version": "3.10.1"
  },
  "orig_nbformat": 4
 },
 "nbformat": 4,
 "nbformat_minor": 2
}
